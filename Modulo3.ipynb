{
 "cells": [
  {
   "cell_type": "markdown",
   "metadata": {},
   "source": [
    "## Mensaje de advertencia\n",
    "-Ejecutar código en una variedad de condiciones mediante sentencias if, else, y elif \n",
    "\n",
    "-combinar la condicional y crear condiciones más complejas mediante el uso de operadores and y operadores or\n",
    "\n",
    "La sintaxis de una instrucción if/else es siempre:\n",
    "(solo puede tener un bloque)"
   ]
  },
  {
   "cell_type": "code",
   "execution_count": 2,
   "metadata": {},
   "outputs": [
    {
     "name": "stdout",
     "output_type": "stream",
     "text": [
      "Alerta un asteroide se dirige a la tierra\n"
     ]
    }
   ],
   "source": [
    "#asteroide velocidad (km/s)\n",
    "a = 49\n",
    "#velocidad limite\n",
    "b = 25\n",
    "#asteroide velocidad dentro de la atmosfera de la tierra \n",
    "c = 19\n",
    "#Velocidad donde se genera un rayo de luz\n",
    "d = 20\n",
    "\n",
    "if a > b:\n",
    "    if c >= d:\n",
    "        print (\"Aterioide en el cielo\")\n",
    "    else: \n",
    "        print (\"Alerta un asteroide se dirige a la tierra\")\n",
    "elif a == b:\n",
    "    print (\"Se dectecta asterioide\")\n",
    "else:\n",
    "    print (\"Sin amenaza de asterioide\")"
   ]
  },
  {
   "cell_type": "markdown",
   "metadata": {},
   "source": [
    "## Uso de operadores and y or\n",
    "\n",
    "-combinar la condicional y crear condiciones más complejas mediante el uso de operadores and y operadores or"
   ]
  },
  {
   "cell_type": "code",
   "execution_count": 1,
   "metadata": {},
   "outputs": [
    {
     "name": "stdout",
     "output_type": "stream",
     "text": [
      "Se a dectectado rayo de luz emitido por un asteroide\n"
     ]
    }
   ],
   "source": [
    "#tamaño asteroide\n",
    "a = 40\n",
    "#velocidad limite\n",
    "b = 25\n",
    "#Velocidad en donde se genera un rayo de luz\n",
    "c = 20\n",
    "\n",
    "if a > b and a > 100:\n",
    "    print (\"Causara mucho daño a la Tierra\")\n",
    "elif b >= c: \n",
    "    print (\"Se a dectectado rayo de luz emitido por un asteroide\")\n",
    "elif a < c:\n",
    "    print (\"Nada que ver\")\n",
    "else:\n",
    "    print (\"Se quemara en la atmósfera\")"
   ]
  }
 ],
 "metadata": {
  "kernelspec": {
   "display_name": "Python 3.9.4 64-bit",
   "language": "python",
   "name": "python3"
  },
  "language_info": {
   "codemirror_mode": {
    "name": "ipython",
    "version": 3
   },
   "file_extension": ".py",
   "mimetype": "text/x-python",
   "name": "python",
   "nbconvert_exporter": "python",
   "pygments_lexer": "ipython3",
   "version": "3.9.4"
  },
  "orig_nbformat": 4,
  "vscode": {
   "interpreter": {
    "hash": "494d2b6e68b704f4902a79d1fff5f2d7ca2c2cbc4dba28c97a3be7cd4bf2f13a"
   }
  }
 },
 "nbformat": 4,
 "nbformat_minor": 2
}
